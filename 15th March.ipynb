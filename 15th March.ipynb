{
 "cells": [
  {
   "cell_type": "markdown",
   "id": "a95f7468",
   "metadata": {},
   "source": [
    "# Assignment"
   ]
  },
  {
   "cell_type": "markdown",
   "id": "e1af2286",
   "metadata": {},
   "source": [
    "## Q1: Explain the following with an example:\n",
    "1. Artificial intelligence \n",
    "2. Machine learning \n",
    "3. Deep learning \n",
    "\n",
    "## Answer:   "
   ]
  },
  {
   "cell_type": "markdown",
   "id": "7b3039b3",
   "metadata": {},
   "source": [
    "## 1. Artificial Intelligence \n",
    "Artificial intelligence is the ability of a computer or computer-controlled robot to perform tasks that are commonly associated with the intellectual processes characteristic of humans, such as the ability to reason. Although there are as yet no AIs that match full human flexibility over wider domains or in tasks requiring much everyday knowledge, some AIs perform specific tasks as well as humans.\n",
    "### Examples of Artificial Intelligence \n",
    "1. Manufacturing robots\n",
    "2. Self-driving cars\n",
    "3. Smart assistants\n",
    "4. Proactive healthcare management\n",
    "5. Disease mapping\n",
    "6. Automated financial investing\n",
    "7. Virtual travel booking agent\n",
    "8. Social media monitoring, etc."
   ]
  },
  {
   "cell_type": "markdown",
   "id": "9591467f",
   "metadata": {},
   "source": [
    "## 2. Machine Learning \n",
    "Machine learning is a subfield of artificial intelligence that uses algorithms trained on data sets to create models that enable machines to perform tasks that would otherwise only be possible for humans, such as categorizing images, analyzing data, or predicting price fluctuations.\n",
    "### Examples of Machine Learning\n",
    "1. Recommendation engines that suggest products, songs, or television shows to you, such as those found on Amazon, Spotify, or Netflix. \n",
    "\n",
    "2. Speech recognition software that allows you to convert voice memos into text.\n",
    "\n",
    "3. A bank’s fraud detection services automatically flag suspicious transactions. \n",
    "\n",
    "4. Self-driving cars and driver assistance features, such as blind-spot detection and automatic stopping, improve overall vehicle safety. "
   ]
  },
  {
   "cell_type": "markdown",
   "id": "98a635bb",
   "metadata": {},
   "source": [
    "## 3. Deep Learning\n",
    "Deep learning is based on the branch of machine learning, which is a subset of artificial intelligence. Since neural networks imitate the human brain and so deep learning will do. In deep learning, nothing is programmed explicitly. Basically, it is a machine learning class that makes use of numerous nonlinear processing units so as to perform feature extraction as well as transformation. The output from each preceding layer is taken as input by each one of the successive layers.\n",
    "### Examples of Deep Learning\n",
    "1. Driverless vehicles\n",
    "2. Chatbots\n",
    "3. Facial recognition\n",
    "4. Medical science\n",
    "5. Virtual assistants"
   ]
  },
  {
   "cell_type": "markdown",
   "id": "488d5386",
   "metadata": {},
   "source": [
    "## Q2: What is supervised learning? List some examples of supervised learning.\n",
    "## Answer:"
   ]
  },
  {
   "cell_type": "markdown",
   "id": "5e7b421d",
   "metadata": {},
   "source": [
    "### Supervised Learning\n",
    " Supervised machine learning is the machine learning technique in which the neural network learns to make predictions or classify data based on the labeled datasets. Here we input both input features along with the target variables. the neural network learns to make predictions based on the cost or error that comes from the difference between the predicted and the actual target, this process is known as backpropagation.  \n",
    "### Examples of Supervised Learning :\n",
    "1. Risk Assessment, \n",
    "2. Image classification, \n",
    "3. Fraud Detection, \n",
    "4. Spam filtering, etc."
   ]
  },
  {
   "cell_type": "markdown",
   "id": "f857a556",
   "metadata": {},
   "source": [
    "## Q3: What is unsupervised learning? List some examples of unsupervised learning.\n",
    "## Answer:"
   ]
  },
  {
   "cell_type": "markdown",
   "id": "13d5eaaa",
   "metadata": {},
   "source": [
    "### Unsupervised Learning\n",
    "Unsupervised machine learning is the machine learning technique in which the neural network learns to discover the patterns or to cluster the dataset based on unlabeled datasets. Here there are no target variables. while the machine has to self-determined the hidden patterns or relationships within the datasets.\n",
    "### Examples of Unsupervised Learning :\n",
    "1. Clustering\n",
    "2. Association Rules\n",
    "3. Dimensionality reduction"
   ]
  },
  {
   "cell_type": "markdown",
   "id": "c41bc502",
   "metadata": {},
   "source": [
    "## Q4 : What is the difference between AI, ML, DL and DS?\n",
    "## Answer:"
   ]
  },
  {
   "cell_type": "markdown",
   "id": "636b103c",
   "metadata": {},
   "source": [
    "## 1. Artificial Intelligence \n",
    "* AI stands for Artificial Intelligence, and is basically the study/process which enables machines to mimic human behaviour through particular algorithm.\n",
    "* AI is the broader family consisting of ML and DL as it’s components.\n",
    "* AI is a computer algorithm which exhibits intelligence through decision making.\n",
    "## 2. Machine Learning\n",
    "* ML stands for Machine Learning, and is the study that uses statistical methods enabling machines to improve with experience.\n",
    "* ML is the subset of AI.\t\n",
    "* ML is an AI algorithm which allows system to learn from data.\n",
    "## 3. Deep Learning\n",
    "* DL stands for Deep Learning, and is the study that makes use of Neural Networks(similar to neurons present in human brain) to imitate functionality just like a human brain.\n",
    "* DL is the subset of ML.\n",
    "* DL is a ML algorithm that uses deep(more than one layer) neural networks to analyze data and provide output accordingly.\n",
    "## 4. Data Science\n",
    "* DS stands for Data Science, and is a detailed process that mainly involves pre- processing analysis, visualization and prediction.\n",
    "* DS is the combination of AI, ML and DL.\n",
    "* Identifying the patterns that are concealed in the data is the main objective of data science."
   ]
  },
  {
   "cell_type": "markdown",
   "id": "d1cb7540",
   "metadata": {},
   "source": [
    "## Q5 : What are the main difference between supervised, unsupervised, and semi-supervised learning?\n",
    "## Answer:"
   ]
  },
  {
   "cell_type": "markdown",
   "id": "784fc3ae",
   "metadata": {},
   "source": [
    "### Supervised: \n",
    "*All data is labeled and the algorithms learn to predict the output from the input data. \n",
    "### Unsupervised: \n",
    "*All data is unlabeled and the algorithms learn to inherent structure from the input data. \n",
    "### Semi-supervised: \n",
    "*Some data is labeled but most of it is unlabeled and a mixture of supervised and unsupervised techniques can be used."
   ]
  },
  {
   "cell_type": "markdown",
   "id": "48241679",
   "metadata": {},
   "source": [
    "## Q6 : What is train, test and validation split? Explain the importance of each term.\n",
    "## Answer:"
   ]
  },
  {
   "cell_type": "markdown",
   "id": "5dbc0a47",
   "metadata": {},
   "source": [
    "## Training Set:\n",
    "The training set is used to train the model. It’s where the model learns the underlying features and patterns in the data.\n",
    "During each epoch, the same training data is fed to the neural network architecture repeatedly, allowing the model to learn from various scenarios.\n",
    "A diversified training set ensures that the model can predict unseen data samples effectively.\n",
    "Ideally, the training set should contain around 80% of your data.\n",
    "## Validation Set:\n",
    "The validation set is separate from the training set and is used to evaluate the model’s performance during training.\n",
    "It helps us tune hyperparameters and configurations.\n",
    "Think of it as a critic that guides us in the right direction.\n",
    "The model is trained on the training set, and its evaluation is performed on the validation set after each epoch.\n",
    "Around 10% of your data is typically allocated to the validation set.\n",
    "## Test Set:\n",
    "The test set is reserved for the final evaluation of the model.\n",
    "It provides an unbiased assessment of how well the model generalizes to new, unseen data.\n",
    "Approximately 10% of your data should be allocated to the test set."
   ]
  },
  {
   "cell_type": "markdown",
   "id": "650f42fb",
   "metadata": {},
   "source": [
    "# Q7 : How can unsupervised learning be used in anomaly detection?\n",
    "## Answer:"
   ]
  },
  {
   "cell_type": "markdown",
   "id": "d25350ee",
   "metadata": {},
   "source": [
    "## Anomaly detection: \n",
    "Unsupervised learning can identify unusual patterns or deviations from normal behavior in data, enabling the detection of fraud, intrusion, or system failures.\n",
    "Unsupervised anomaly detection doesn’t rely on labeled data. Instead, the algorithm learns the inherent structure of the data and identifies instances that deviate from this learned structure."
   ]
  },
  {
   "cell_type": "markdown",
   "id": "9970410e",
   "metadata": {},
   "source": [
    "## Q8 : List down some commonly used supervised learning algorithms and unsupervised learning algorithms.\n",
    "## Answer:"
   ]
  },
  {
   "cell_type": "markdown",
   "id": "a8a1d503",
   "metadata": {},
   "source": [
    "## Supervised Learning Algorithms has two categories :\n",
    "### 1. Regression Algorithm \n",
    "### 2. Classification Algorithm \n",
    "## Regression Algorithm:\n",
    "1. Linear Regression\n",
    "2. Polynomial Regression\n",
    "3. Support Vector Machine Regression\n",
    "4. Decision Tree Regression\n",
    "5. Random Forest Regression\n",
    "## Classification Algorithm \n",
    "1. Logistic Regression\n",
    "2. Support Vector Machines\n",
    "3. Decision Trees\n",
    "4. Random Forests\n",
    "5. Naive Baye\n",
    "# ..............................................................................................\n",
    "## Unsupervised Learning Algorithms has two categories:\n",
    "### 1. Clustering Algorithm \n",
    "### 2. Association Algorithm \n",
    "## Clustering  Algorithm:\n",
    "1. Exclusive \n",
    "2. Agglomerative\n",
    "3. Overlapping\n",
    "4. Probabilistic\n",
    "## Association Algorithm \n",
    "1. Apriori Algorithm\n",
    "2. Eclat Algorithm\n",
    "3. FP-Growth Algorithm"
   ]
  }
 ],
 "metadata": {
  "kernelspec": {
   "display_name": "Python 3 (ipykernel)",
   "language": "python",
   "name": "python3"
  },
  "language_info": {
   "codemirror_mode": {
    "name": "ipython",
    "version": 3
   },
   "file_extension": ".py",
   "mimetype": "text/x-python",
   "name": "python",
   "nbconvert_exporter": "python",
   "pygments_lexer": "ipython3",
   "version": "3.9.13"
  }
 },
 "nbformat": 4,
 "nbformat_minor": 5
}
